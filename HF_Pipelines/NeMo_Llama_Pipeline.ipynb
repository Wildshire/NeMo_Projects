{
 "cells": [
  {
   "cell_type": "markdown",
   "id": "51a78c7e-5311-4797-9168-bf72892fce38",
   "metadata": {},
   "source": [
    "# NeMo Llama pipeline"
   ]
  },
  {
   "cell_type": "code",
   "execution_count": null,
   "id": "975bd55a-a830-4752-9f43-44209ff28169",
   "metadata": {},
   "outputs": [],
   "source": [
    "!pip install transformers==4.33.1 --upgrade\n",
    "!pip install nemoguardrails --upgrade\n",
    "!pip install accelerate --upgrade\n",
    "!pip install spacy --upgrade #Optional"
   ]
  },
  {
   "cell_type": "code",
   "execution_count": 3,
   "id": "f886fbbe-b4be-4d43-8e34-913ccc30fe36",
   "metadata": {},
   "outputs": [],
   "source": [
    "import nest_asyncio\n",
    "nest_asyncio.apply()"
   ]
  },
  {
   "cell_type": "code",
   "execution_count": 4,
   "id": "e22533a8-a294-45bf-bc5c-0009da0973fb",
   "metadata": {},
   "outputs": [],
   "source": [
    "import logging\n",
    "logging.basicConfig(level=logging.DEBUG)"
   ]
  },
  {
   "cell_type": "code",
   "execution_count": null,
   "id": "c0355b12-867d-4766-9f2a-891f6ee856c3",
   "metadata": {},
   "outputs": [],
   "source": [
    "from pathlib import Path\n",
    "from nemoguardrails import LLMRails, RailsConfig\n",
    "\n",
    "import os\n",
    "os.environ['HF_TOKEN'] = # Token\n",
    "os.environ['HF_HOME'] = \"/.cache/huggingface/\"\n",
    "os.environ['HF_HUB_CACHE'] = \"/.cache/huggingface/hub\"\n",
    "os.environ['HF_HUB_OFFLINE'] = \"0\" \n",
    "\n",
    "assert Path(\"/.cache/huggingface\").exists(), \"Path exists\"\n",
    "\n",
    "\n",
    "# Load a guardrails configuration from the specified path.\n",
    "path_to_config = Path.cwd() / \"hf_pipeline_llama2\" / \"config\"\n",
    "config = RailsConfig.from_path(str(path_to_config))\n",
    "rails = LLMRails(config)\n",
    "\n",
    "completion = rails.generate(\n",
    "    messages=[{\"role\": \"user\", \"content\": \"What was last month's unemployment rate?\"}]\n",
    ")\n",
    "\n",
    "print(completion)"
   ]
  }
 ],
 "metadata": {
  "kernelspec": {
   "display_name": "Python 3 (ipykernel)",
   "language": "python",
   "name": "python3"
  },
  "language_info": {
   "codemirror_mode": {
    "name": "ipython",
    "version": 3
   },
   "file_extension": ".py",
   "mimetype": "text/x-python",
   "name": "python",
   "nbconvert_exporter": "python",
   "pygments_lexer": "ipython3",
   "version": "3.8.15"
  }
 },
 "nbformat": 4,
 "nbformat_minor": 5
}
